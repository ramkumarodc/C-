{
 "cells": [
  {
   "cell_type": "code",
   "execution_count": 1,
   "id": "9a504bdc-57c1-4dad-b307-eba962e92a96",
   "metadata": {},
   "outputs": [
    {
     "name": "stdout",
     "output_type": "stream",
     "text": [
      "hello\n"
     ]
    }
   ],
   "source": [
    "print(\"hello\")"
   ]
  },
  {
   "cell_type": "code",
   "execution_count": 2,
   "id": "fdc8348b-011b-4b7c-861e-e9b486fb68a8",
   "metadata": {},
   "outputs": [
    {
     "name": "stdout",
     "output_type": "stream",
     "text": [
      "(2, 4)\n"
     ]
    }
   ],
   "source": [
    "import numpy as np\n",
    "arr = np.array([[1,2,3,4],[5,6,7,8]])\n",
    "print(arr.shape)"
   ]
  },
  {
   "cell_type": "code",
   "execution_count": 3,
   "id": "f9ac96b7-4553-4293-9d69-07e9a5648840",
   "metadata": {},
   "outputs": [
    {
     "name": "stdout",
     "output_type": "stream",
     "text": [
      "[ 1  2  3  4  5  6  7  8  9 10 11 12]\n"
     ]
    }
   ],
   "source": [
    "import numpy as np\n",
    "arr = np.array([1,2,3,4,5,6,7,8,9,10,11,12])\n",
    "print(arr.reshape(3,2,2).base)"
   ]
  },
  {
   "cell_type": "code",
   "execution_count": null,
   "id": "04adfdb0-ad6f-499b-b055-345c21b23bf7",
   "metadata": {},
   "outputs": [],
   "source": [
    "import numpy as np\n",
    "arr = np.array([1, 2, 3, 4, 5, 6, 7, 8])\n",
    "print(arr)\n",
    "newarr = arr.reshape(-1)\n",
    "print(newarr)"
   ]
  },
  {
   "cell_type": "code",
   "execution_count": null,
   "id": "fc484297-4367-4ccc-8a13-2fa5eb43e655",
   "metadata": {},
   "outputs": [],
   "source": [
    "import numpy as np\n",
    "arr = np.array([1,2,3,4,5,6,7,8])\n",
    "for x in arr:\n",
    "    print(x)\n",
    "newarr = arr.reshape(2,4)\n",
    "print(newarr)\n",
    "print(newarr.base)\n",
    "for x in newarr:\n",
    "    print(x)\n",
    "for x in newarr:\n",
    "    for y in x:\n",
    "        print(y)"
   ]
  },
  {
   "cell_type": "code",
   "execution_count": null,
   "id": "ead6f238-445b-41c2-9dcb-3ca297f4524d",
   "metadata": {},
   "outputs": [],
   "source": [
    "import numpy as np\n",
    "arr = np.array([[[1, 2], [3, 4]], [[5, 6], [7, 8]]])\n",
    "\n",
    "for x in arr:\n",
    "    print(x)\n",
    "for x in np.nditer(arr):\n",
    "    print(x)"
   ]
  },
  {
   "cell_type": "code",
   "execution_count": null,
   "id": "9c2d010e-3007-4580-a38b-0d58afb29bc4",
   "metadata": {},
   "outputs": [],
   "source": [
    "str = \"hello\"\n",
    "str?\n"
   ]
  },
  {
   "cell_type": "code",
   "execution_count": null,
   "id": "b14842b9-a9a0-4afb-9487-9964faec16ab",
   "metadata": {},
   "outputs": [],
   "source": [
    "word = 'word'\n",
    "print (word)\n",
    "\n",
    "sentence = \"This is a sentence.\"\n",
    "print (sentence)\n",
    "\n",
    "paragraph = \"\"\"This is a paragraph. It is\n",
    " made up of multiple lines and sentences.\"\"\"\n",
    "print (paragraph)"
   ]
  },
  {
   "cell_type": "code",
   "execution_count": null,
   "id": "3b025db0-7538-4193-97cf-188ed59530c8",
   "metadata": {},
   "outputs": [],
   "source": [
    "import array as arr\n",
    "a = arr.array('d',[1.1,1.2,1.3])\n",
    "print(a)\n",
    "a[0] = 4\n",
    "print (a)"
   ]
  },
  {
   "cell_type": "code",
   "execution_count": null,
   "id": "710e859e-1d1d-44c5-910e-cf1cea83b227",
   "metadata": {
    "scrolled": true
   },
   "outputs": [],
   "source": [
    "fo=open(\"foo.txt\", \"wb+\")\n",
    "print(\"Name of the file:\",fo.name)\n",
    "print(\"Closed or Not:\",fo.closed)\n",
    "print(\"Opening mode:\",fo.mode)\n",
    "\n",
    "fo.write(b\"Message\")\n",
    "fo.seek(10, 0)\n",
    "fo.write(b\" ram \")\n",
    "fo.seek(-10, 1)\n",
    "fo.write(b\"kumar\")\n",
    "fo.seek(-10, 2)\n",
    "fo.write(b\"okok\")\n",
    "fo.close()\n",
    "\n",
    "wo=open(\"foo.txt\", \"r\")\n",
    "print(wo.read())\n",
    "\n"
   ]
  },
  {
   "cell_type": "markdown",
   "id": "44c2cd73-04bd-4f1e-a8fe-4076365aa633",
   "metadata": {
    "jp-MarkdownHeadingCollapsed": true
   },
   "source": [
    "n=23\n",
    "data=n.to_bytes(8, 'big')\n",
    "print(data)"
   ]
  },
  {
   "cell_type": "code",
   "execution_count": null,
   "id": "ab9c74cd-25bc-402f-a4bb-8c22f42fac2c",
   "metadata": {},
   "outputs": [],
   "source": [
    "n=24\n",
    "data=n.to_bytes(3, 'big')\n",
    "print(data)\n",
    "print(int.from_bytes(data, 'big'))"
   ]
  }
 ],
 "metadata": {
  "kernelspec": {
   "display_name": "Python 3 (ipykernel)",
   "language": "python",
   "name": "python3"
  },
  "language_info": {
   "codemirror_mode": {
    "name": "ipython",
    "version": 3
   },
   "file_extension": ".py",
   "mimetype": "text/x-python",
   "name": "python",
   "nbconvert_exporter": "python",
   "pygments_lexer": "ipython3",
   "version": "3.12.2"
  }
 },
 "nbformat": 4,
 "nbformat_minor": 5
}
